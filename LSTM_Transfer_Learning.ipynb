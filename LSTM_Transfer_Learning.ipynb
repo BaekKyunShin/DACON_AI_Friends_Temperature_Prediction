{
 "cells": [
  {
   "cell_type": "markdown",
   "metadata": {},
   "source": [
    "# LSTM Transfer Learning"
   ]
  },
  {
   "cell_type": "code",
   "execution_count": 1,
   "metadata": {},
   "outputs": [],
   "source": [
    "# !pip install tensorflow\n",
    "# !pip install tensorflow_hub"
   ]
  },
  {
   "cell_type": "code",
   "execution_count": 2,
   "metadata": {},
   "outputs": [],
   "source": [
    "import pandas as pd\n",
    "import numpy as np\n",
    "from tqdm import tqdm\n",
    "import random\n",
    "import tensorflow as tf\n",
    "import seaborn as sns\n",
    "import matplotlib.pyplot as plt\n",
    "import os"
   ]
  },
  {
   "cell_type": "code",
   "execution_count": 3,
   "metadata": {},
   "outputs": [
    {
     "name": "stdout",
     "output_type": "stream",
     "text": [
      "2.0.0\n"
     ]
    }
   ],
   "source": [
    "print(tf.__version__)"
   ]
  },
  {
   "cell_type": "code",
   "execution_count": 4,
   "metadata": {},
   "outputs": [],
   "source": [
    "# 재생산성을 위해 시드 고정\n",
    "np.random.seed(7)\n",
    "random.seed(7)\n",
    "tf.random.set_seed(7)"
   ]
  },
  {
   "cell_type": "code",
   "execution_count": 5,
   "metadata": {},
   "outputs": [],
   "source": [
    "train = pd.read_csv('data/train.csv', index_col = 'id')\n",
    "test = pd.read_csv('data/test.csv', index_col = 'id')"
   ]
  },
  {
   "cell_type": "code",
   "execution_count": 6,
   "metadata": {},
   "outputs": [
    {
     "data": {
      "text/html": [
       "<div>\n",
       "<style scoped>\n",
       "    .dataframe tbody tr th:only-of-type {\n",
       "        vertical-align: middle;\n",
       "    }\n",
       "\n",
       "    .dataframe tbody tr th {\n",
       "        vertical-align: top;\n",
       "    }\n",
       "\n",
       "    .dataframe thead th {\n",
       "        text-align: right;\n",
       "    }\n",
       "</style>\n",
       "<table border=\"1\" class=\"dataframe\">\n",
       "  <thead>\n",
       "    <tr style=\"text-align: right;\">\n",
       "      <th></th>\n",
       "      <th>X00</th>\n",
       "      <th>X01</th>\n",
       "      <th>X02</th>\n",
       "      <th>X03</th>\n",
       "      <th>X04</th>\n",
       "      <th>X05</th>\n",
       "      <th>X06</th>\n",
       "      <th>X07</th>\n",
       "      <th>X08</th>\n",
       "      <th>X09</th>\n",
       "      <th>...</th>\n",
       "      <th>Y09</th>\n",
       "      <th>Y10</th>\n",
       "      <th>Y11</th>\n",
       "      <th>Y12</th>\n",
       "      <th>Y13</th>\n",
       "      <th>Y14</th>\n",
       "      <th>Y15</th>\n",
       "      <th>Y16</th>\n",
       "      <th>Y17</th>\n",
       "      <th>Y18</th>\n",
       "    </tr>\n",
       "    <tr>\n",
       "      <th>id</th>\n",
       "      <th></th>\n",
       "      <th></th>\n",
       "      <th></th>\n",
       "      <th></th>\n",
       "      <th></th>\n",
       "      <th></th>\n",
       "      <th></th>\n",
       "      <th></th>\n",
       "      <th></th>\n",
       "      <th></th>\n",
       "      <th></th>\n",
       "      <th></th>\n",
       "      <th></th>\n",
       "      <th></th>\n",
       "      <th></th>\n",
       "      <th></th>\n",
       "      <th></th>\n",
       "      <th></th>\n",
       "      <th></th>\n",
       "      <th></th>\n",
       "      <th></th>\n",
       "    </tr>\n",
       "  </thead>\n",
       "  <tbody>\n",
       "    <tr>\n",
       "      <th>0</th>\n",
       "      <td>9.7</td>\n",
       "      <td>988.8</td>\n",
       "      <td>1.2</td>\n",
       "      <td>0.6</td>\n",
       "      <td>0.0</td>\n",
       "      <td>1009.3</td>\n",
       "      <td>989.6</td>\n",
       "      <td>12.2</td>\n",
       "      <td>1009.9</td>\n",
       "      <td>1009.8</td>\n",
       "      <td>...</td>\n",
       "      <td>7.0</td>\n",
       "      <td>7.5</td>\n",
       "      <td>7.0</td>\n",
       "      <td>9.0</td>\n",
       "      <td>10.0</td>\n",
       "      <td>9.5</td>\n",
       "      <td>9.0</td>\n",
       "      <td>8.0</td>\n",
       "      <td>9.0</td>\n",
       "      <td>NaN</td>\n",
       "    </tr>\n",
       "    <tr>\n",
       "      <th>1</th>\n",
       "      <td>9.3</td>\n",
       "      <td>988.9</td>\n",
       "      <td>1.7</td>\n",
       "      <td>1.9</td>\n",
       "      <td>0.0</td>\n",
       "      <td>1009.3</td>\n",
       "      <td>989.6</td>\n",
       "      <td>12.1</td>\n",
       "      <td>1010.0</td>\n",
       "      <td>1009.9</td>\n",
       "      <td>...</td>\n",
       "      <td>6.5</td>\n",
       "      <td>7.5</td>\n",
       "      <td>7.0</td>\n",
       "      <td>8.5</td>\n",
       "      <td>10.0</td>\n",
       "      <td>9.5</td>\n",
       "      <td>9.0</td>\n",
       "      <td>7.5</td>\n",
       "      <td>9.0</td>\n",
       "      <td>NaN</td>\n",
       "    </tr>\n",
       "    <tr>\n",
       "      <th>2</th>\n",
       "      <td>9.4</td>\n",
       "      <td>989.0</td>\n",
       "      <td>1.1</td>\n",
       "      <td>2.3</td>\n",
       "      <td>0.0</td>\n",
       "      <td>1009.2</td>\n",
       "      <td>989.7</td>\n",
       "      <td>12.1</td>\n",
       "      <td>1010.1</td>\n",
       "      <td>1010.1</td>\n",
       "      <td>...</td>\n",
       "      <td>6.5</td>\n",
       "      <td>7.5</td>\n",
       "      <td>6.5</td>\n",
       "      <td>8.0</td>\n",
       "      <td>9.5</td>\n",
       "      <td>9.5</td>\n",
       "      <td>8.5</td>\n",
       "      <td>7.5</td>\n",
       "      <td>8.5</td>\n",
       "      <td>NaN</td>\n",
       "    </tr>\n",
       "    <tr>\n",
       "      <th>3</th>\n",
       "      <td>9.4</td>\n",
       "      <td>988.9</td>\n",
       "      <td>1.5</td>\n",
       "      <td>0.7</td>\n",
       "      <td>0.0</td>\n",
       "      <td>1009.2</td>\n",
       "      <td>989.6</td>\n",
       "      <td>12.0</td>\n",
       "      <td>1010.0</td>\n",
       "      <td>1010.0</td>\n",
       "      <td>...</td>\n",
       "      <td>6.0</td>\n",
       "      <td>7.0</td>\n",
       "      <td>6.0</td>\n",
       "      <td>8.0</td>\n",
       "      <td>9.5</td>\n",
       "      <td>9.0</td>\n",
       "      <td>8.5</td>\n",
       "      <td>7.5</td>\n",
       "      <td>8.5</td>\n",
       "      <td>NaN</td>\n",
       "    </tr>\n",
       "    <tr>\n",
       "      <th>4</th>\n",
       "      <td>9.2</td>\n",
       "      <td>988.9</td>\n",
       "      <td>0.8</td>\n",
       "      <td>1.7</td>\n",
       "      <td>0.0</td>\n",
       "      <td>1009.2</td>\n",
       "      <td>989.7</td>\n",
       "      <td>12.0</td>\n",
       "      <td>1010.1</td>\n",
       "      <td>1010.0</td>\n",
       "      <td>...</td>\n",
       "      <td>6.0</td>\n",
       "      <td>7.0</td>\n",
       "      <td>6.0</td>\n",
       "      <td>7.5</td>\n",
       "      <td>9.5</td>\n",
       "      <td>9.0</td>\n",
       "      <td>8.5</td>\n",
       "      <td>7.5</td>\n",
       "      <td>8.5</td>\n",
       "      <td>NaN</td>\n",
       "    </tr>\n",
       "    <tr>\n",
       "      <th>...</th>\n",
       "      <td>...</td>\n",
       "      <td>...</td>\n",
       "      <td>...</td>\n",
       "      <td>...</td>\n",
       "      <td>...</td>\n",
       "      <td>...</td>\n",
       "      <td>...</td>\n",
       "      <td>...</td>\n",
       "      <td>...</td>\n",
       "      <td>...</td>\n",
       "      <td>...</td>\n",
       "      <td>...</td>\n",
       "      <td>...</td>\n",
       "      <td>...</td>\n",
       "      <td>...</td>\n",
       "      <td>...</td>\n",
       "      <td>...</td>\n",
       "      <td>...</td>\n",
       "      <td>...</td>\n",
       "      <td>...</td>\n",
       "      <td>...</td>\n",
       "    </tr>\n",
       "    <tr>\n",
       "      <th>4747</th>\n",
       "      <td>19.9</td>\n",
       "      <td>987.6</td>\n",
       "      <td>0.9</td>\n",
       "      <td>0.8</td>\n",
       "      <td>0.0</td>\n",
       "      <td>1006.9</td>\n",
       "      <td>987.7</td>\n",
       "      <td>21.7</td>\n",
       "      <td>1007.5</td>\n",
       "      <td>1007.4</td>\n",
       "      <td>...</td>\n",
       "      <td>NaN</td>\n",
       "      <td>NaN</td>\n",
       "      <td>NaN</td>\n",
       "      <td>NaN</td>\n",
       "      <td>NaN</td>\n",
       "      <td>NaN</td>\n",
       "      <td>NaN</td>\n",
       "      <td>NaN</td>\n",
       "      <td>NaN</td>\n",
       "      <td>21.5</td>\n",
       "    </tr>\n",
       "    <tr>\n",
       "      <th>4748</th>\n",
       "      <td>19.9</td>\n",
       "      <td>987.6</td>\n",
       "      <td>0.5</td>\n",
       "      <td>0.7</td>\n",
       "      <td>0.0</td>\n",
       "      <td>1006.8</td>\n",
       "      <td>987.7</td>\n",
       "      <td>21.6</td>\n",
       "      <td>1007.5</td>\n",
       "      <td>1007.4</td>\n",
       "      <td>...</td>\n",
       "      <td>NaN</td>\n",
       "      <td>NaN</td>\n",
       "      <td>NaN</td>\n",
       "      <td>NaN</td>\n",
       "      <td>NaN</td>\n",
       "      <td>NaN</td>\n",
       "      <td>NaN</td>\n",
       "      <td>NaN</td>\n",
       "      <td>NaN</td>\n",
       "      <td>21.5</td>\n",
       "    </tr>\n",
       "    <tr>\n",
       "      <th>4749</th>\n",
       "      <td>19.7</td>\n",
       "      <td>987.7</td>\n",
       "      <td>0.9</td>\n",
       "      <td>0.6</td>\n",
       "      <td>0.0</td>\n",
       "      <td>1006.9</td>\n",
       "      <td>987.6</td>\n",
       "      <td>21.4</td>\n",
       "      <td>1007.4</td>\n",
       "      <td>1007.5</td>\n",
       "      <td>...</td>\n",
       "      <td>NaN</td>\n",
       "      <td>NaN</td>\n",
       "      <td>NaN</td>\n",
       "      <td>NaN</td>\n",
       "      <td>NaN</td>\n",
       "      <td>NaN</td>\n",
       "      <td>NaN</td>\n",
       "      <td>NaN</td>\n",
       "      <td>NaN</td>\n",
       "      <td>21.5</td>\n",
       "    </tr>\n",
       "    <tr>\n",
       "      <th>4750</th>\n",
       "      <td>19.4</td>\n",
       "      <td>987.7</td>\n",
       "      <td>0.9</td>\n",
       "      <td>0.8</td>\n",
       "      <td>0.0</td>\n",
       "      <td>1006.9</td>\n",
       "      <td>987.8</td>\n",
       "      <td>21.3</td>\n",
       "      <td>1007.6</td>\n",
       "      <td>1007.5</td>\n",
       "      <td>...</td>\n",
       "      <td>NaN</td>\n",
       "      <td>NaN</td>\n",
       "      <td>NaN</td>\n",
       "      <td>NaN</td>\n",
       "      <td>NaN</td>\n",
       "      <td>NaN</td>\n",
       "      <td>NaN</td>\n",
       "      <td>NaN</td>\n",
       "      <td>NaN</td>\n",
       "      <td>21.5</td>\n",
       "    </tr>\n",
       "    <tr>\n",
       "      <th>4751</th>\n",
       "      <td>19.1</td>\n",
       "      <td>987.6</td>\n",
       "      <td>1.0</td>\n",
       "      <td>0.3</td>\n",
       "      <td>0.0</td>\n",
       "      <td>1006.8</td>\n",
       "      <td>987.8</td>\n",
       "      <td>21.2</td>\n",
       "      <td>1007.5</td>\n",
       "      <td>1007.4</td>\n",
       "      <td>...</td>\n",
       "      <td>NaN</td>\n",
       "      <td>NaN</td>\n",
       "      <td>NaN</td>\n",
       "      <td>NaN</td>\n",
       "      <td>NaN</td>\n",
       "      <td>NaN</td>\n",
       "      <td>NaN</td>\n",
       "      <td>NaN</td>\n",
       "      <td>NaN</td>\n",
       "      <td>21.0</td>\n",
       "    </tr>\n",
       "  </tbody>\n",
       "</table>\n",
       "<p>4752 rows × 59 columns</p>\n",
       "</div>"
      ],
      "text/plain": [
       "       X00    X01  X02  X03  X04     X05    X06   X07     X08     X09  ...  \\\n",
       "id                                                                     ...   \n",
       "0      9.7  988.8  1.2  0.6  0.0  1009.3  989.6  12.2  1009.9  1009.8  ...   \n",
       "1      9.3  988.9  1.7  1.9  0.0  1009.3  989.6  12.1  1010.0  1009.9  ...   \n",
       "2      9.4  989.0  1.1  2.3  0.0  1009.2  989.7  12.1  1010.1  1010.1  ...   \n",
       "3      9.4  988.9  1.5  0.7  0.0  1009.2  989.6  12.0  1010.0  1010.0  ...   \n",
       "4      9.2  988.9  0.8  1.7  0.0  1009.2  989.7  12.0  1010.1  1010.0  ...   \n",
       "...    ...    ...  ...  ...  ...     ...    ...   ...     ...     ...  ...   \n",
       "4747  19.9  987.6  0.9  0.8  0.0  1006.9  987.7  21.7  1007.5  1007.4  ...   \n",
       "4748  19.9  987.6  0.5  0.7  0.0  1006.8  987.7  21.6  1007.5  1007.4  ...   \n",
       "4749  19.7  987.7  0.9  0.6  0.0  1006.9  987.6  21.4  1007.4  1007.5  ...   \n",
       "4750  19.4  987.7  0.9  0.8  0.0  1006.9  987.8  21.3  1007.6  1007.5  ...   \n",
       "4751  19.1  987.6  1.0  0.3  0.0  1006.8  987.8  21.2  1007.5  1007.4  ...   \n",
       "\n",
       "      Y09  Y10  Y11  Y12   Y13  Y14  Y15  Y16  Y17   Y18  \n",
       "id                                                        \n",
       "0     7.0  7.5  7.0  9.0  10.0  9.5  9.0  8.0  9.0   NaN  \n",
       "1     6.5  7.5  7.0  8.5  10.0  9.5  9.0  7.5  9.0   NaN  \n",
       "2     6.5  7.5  6.5  8.0   9.5  9.5  8.5  7.5  8.5   NaN  \n",
       "3     6.0  7.0  6.0  8.0   9.5  9.0  8.5  7.5  8.5   NaN  \n",
       "4     6.0  7.0  6.0  7.5   9.5  9.0  8.5  7.5  8.5   NaN  \n",
       "...   ...  ...  ...  ...   ...  ...  ...  ...  ...   ...  \n",
       "4747  NaN  NaN  NaN  NaN   NaN  NaN  NaN  NaN  NaN  21.5  \n",
       "4748  NaN  NaN  NaN  NaN   NaN  NaN  NaN  NaN  NaN  21.5  \n",
       "4749  NaN  NaN  NaN  NaN   NaN  NaN  NaN  NaN  NaN  21.5  \n",
       "4750  NaN  NaN  NaN  NaN   NaN  NaN  NaN  NaN  NaN  21.5  \n",
       "4751  NaN  NaN  NaN  NaN   NaN  NaN  NaN  NaN  NaN  21.0  \n",
       "\n",
       "[4752 rows x 59 columns]"
      ]
     },
     "execution_count": 6,
     "metadata": {},
     "output_type": "execute_result"
    }
   ],
   "source": [
    "train"
   ]
  },
  {
   "cell_type": "markdown",
   "metadata": {},
   "source": [
    "# 2. Data Cleasing & Pre-Processing"
   ]
  },
  {
   "cell_type": "code",
   "execution_count": 7,
   "metadata": {},
   "outputs": [],
   "source": [
    "# 기상청 데이터만 추출\n",
    "X_train = train.loc[:,'X00':'X39']\n",
    "\n",
    "# standardization을 위해 평균과 표준편차 구하기\n",
    "MEAN = X_train.mean()\n",
    "STD = X_train.std()\n",
    "\n",
    "# 정규화 / 표준편차가 0일 경우 대비하여 1e-07 추가 \n",
    "X_train = (X_train - MEAN) / (STD + 1e-07)"
   ]
  },
  {
   "cell_type": "code",
   "execution_count": 8,
   "metadata": {
    "scrolled": true
   },
   "outputs": [
    {
     "data": {
      "text/html": [
       "<div>\n",
       "<style scoped>\n",
       "    .dataframe tbody tr th:only-of-type {\n",
       "        vertical-align: middle;\n",
       "    }\n",
       "\n",
       "    .dataframe tbody tr th {\n",
       "        vertical-align: top;\n",
       "    }\n",
       "\n",
       "    .dataframe thead th {\n",
       "        text-align: right;\n",
       "    }\n",
       "</style>\n",
       "<table border=\"1\" class=\"dataframe\">\n",
       "  <thead>\n",
       "    <tr style=\"text-align: right;\">\n",
       "      <th></th>\n",
       "      <th>X00</th>\n",
       "      <th>X01</th>\n",
       "      <th>X02</th>\n",
       "      <th>X03</th>\n",
       "      <th>X04</th>\n",
       "      <th>X05</th>\n",
       "      <th>X06</th>\n",
       "      <th>X07</th>\n",
       "      <th>X08</th>\n",
       "      <th>X09</th>\n",
       "      <th>...</th>\n",
       "      <th>X30</th>\n",
       "      <th>X31</th>\n",
       "      <th>X32</th>\n",
       "      <th>X33</th>\n",
       "      <th>X34</th>\n",
       "      <th>X35</th>\n",
       "      <th>X36</th>\n",
       "      <th>X37</th>\n",
       "      <th>X38</th>\n",
       "      <th>X39</th>\n",
       "    </tr>\n",
       "    <tr>\n",
       "      <th>id</th>\n",
       "      <th></th>\n",
       "      <th></th>\n",
       "      <th></th>\n",
       "      <th></th>\n",
       "      <th></th>\n",
       "      <th></th>\n",
       "      <th></th>\n",
       "      <th></th>\n",
       "      <th></th>\n",
       "      <th></th>\n",
       "      <th></th>\n",
       "      <th></th>\n",
       "      <th></th>\n",
       "      <th></th>\n",
       "      <th></th>\n",
       "      <th></th>\n",
       "      <th></th>\n",
       "      <th></th>\n",
       "      <th></th>\n",
       "      <th></th>\n",
       "      <th></th>\n",
       "    </tr>\n",
       "  </thead>\n",
       "  <tbody>\n",
       "    <tr>\n",
       "      <th>0</th>\n",
       "      <td>-2.236377</td>\n",
       "      <td>0.053243</td>\n",
       "      <td>-0.288997</td>\n",
       "      <td>-0.911345</td>\n",
       "      <td>-0.286742</td>\n",
       "      <td>0.284562</td>\n",
       "      <td>0.174782</td>\n",
       "      <td>-2.160752</td>\n",
       "      <td>0.315216</td>\n",
       "      <td>0.396435</td>\n",
       "      <td>...</td>\n",
       "      <td>0.159919</td>\n",
       "      <td>-2.109779</td>\n",
       "      <td>-1.766623</td>\n",
       "      <td>0.297981</td>\n",
       "      <td>-1.015881</td>\n",
       "      <td>0.482017</td>\n",
       "      <td>-0.274946</td>\n",
       "      <td>0.577720</td>\n",
       "      <td>0.240703</td>\n",
       "      <td>-0.234576</td>\n",
       "    </tr>\n",
       "    <tr>\n",
       "      <th>1</th>\n",
       "      <td>-2.321347</td>\n",
       "      <td>0.083006</td>\n",
       "      <td>0.177482</td>\n",
       "      <td>0.477320</td>\n",
       "      <td>-0.286742</td>\n",
       "      <td>0.284562</td>\n",
       "      <td>0.174782</td>\n",
       "      <td>-2.183598</td>\n",
       "      <td>0.343622</td>\n",
       "      <td>0.424634</td>\n",
       "      <td>...</td>\n",
       "      <td>0.215666</td>\n",
       "      <td>-2.091664</td>\n",
       "      <td>-1.842501</td>\n",
       "      <td>0.297981</td>\n",
       "      <td>-1.015881</td>\n",
       "      <td>0.070290</td>\n",
       "      <td>-0.274946</td>\n",
       "      <td>0.582841</td>\n",
       "      <td>0.289700</td>\n",
       "      <td>-0.234576</td>\n",
       "    </tr>\n",
       "    <tr>\n",
       "      <th>2</th>\n",
       "      <td>-2.300105</td>\n",
       "      <td>0.112769</td>\n",
       "      <td>-0.382293</td>\n",
       "      <td>0.904602</td>\n",
       "      <td>-0.286742</td>\n",
       "      <td>0.255107</td>\n",
       "      <td>0.204162</td>\n",
       "      <td>-2.183598</td>\n",
       "      <td>0.372029</td>\n",
       "      <td>0.481033</td>\n",
       "      <td>...</td>\n",
       "      <td>0.271413</td>\n",
       "      <td>-2.146009</td>\n",
       "      <td>-1.956318</td>\n",
       "      <td>0.268916</td>\n",
       "      <td>-1.015881</td>\n",
       "      <td>0.269124</td>\n",
       "      <td>-0.274946</td>\n",
       "      <td>0.582841</td>\n",
       "      <td>0.311477</td>\n",
       "      <td>-0.234576</td>\n",
       "    </tr>\n",
       "    <tr>\n",
       "      <th>3</th>\n",
       "      <td>-2.300105</td>\n",
       "      <td>0.083006</td>\n",
       "      <td>-0.009110</td>\n",
       "      <td>-0.804525</td>\n",
       "      <td>-0.286742</td>\n",
       "      <td>0.255107</td>\n",
       "      <td>0.174782</td>\n",
       "      <td>-2.206443</td>\n",
       "      <td>0.343622</td>\n",
       "      <td>0.452834</td>\n",
       "      <td>...</td>\n",
       "      <td>0.350389</td>\n",
       "      <td>-2.200355</td>\n",
       "      <td>-2.013226</td>\n",
       "      <td>0.297981</td>\n",
       "      <td>-1.015881</td>\n",
       "      <td>0.056231</td>\n",
       "      <td>-0.274946</td>\n",
       "      <td>0.593083</td>\n",
       "      <td>0.344142</td>\n",
       "      <td>-0.234576</td>\n",
       "    </tr>\n",
       "    <tr>\n",
       "      <th>4</th>\n",
       "      <td>-2.342589</td>\n",
       "      <td>0.083006</td>\n",
       "      <td>-0.662181</td>\n",
       "      <td>0.263679</td>\n",
       "      <td>-0.286742</td>\n",
       "      <td>0.255107</td>\n",
       "      <td>0.204162</td>\n",
       "      <td>-2.206443</td>\n",
       "      <td>0.372029</td>\n",
       "      <td>0.452834</td>\n",
       "      <td>...</td>\n",
       "      <td>0.401490</td>\n",
       "      <td>-2.254700</td>\n",
       "      <td>-2.013226</td>\n",
       "      <td>0.297981</td>\n",
       "      <td>-1.015881</td>\n",
       "      <td>-0.336416</td>\n",
       "      <td>-0.274946</td>\n",
       "      <td>0.618688</td>\n",
       "      <td>0.371363</td>\n",
       "      <td>-0.234576</td>\n",
       "    </tr>\n",
       "    <tr>\n",
       "      <th>...</th>\n",
       "      <td>...</td>\n",
       "      <td>...</td>\n",
       "      <td>...</td>\n",
       "      <td>...</td>\n",
       "      <td>...</td>\n",
       "      <td>...</td>\n",
       "      <td>...</td>\n",
       "      <td>...</td>\n",
       "      <td>...</td>\n",
       "      <td>...</td>\n",
       "      <td>...</td>\n",
       "      <td>...</td>\n",
       "      <td>...</td>\n",
       "      <td>...</td>\n",
       "      <td>...</td>\n",
       "      <td>...</td>\n",
       "      <td>...</td>\n",
       "      <td>...</td>\n",
       "      <td>...</td>\n",
       "      <td>...</td>\n",
       "      <td>...</td>\n",
       "    </tr>\n",
       "    <tr>\n",
       "      <th>4747</th>\n",
       "      <td>-0.069655</td>\n",
       "      <td>-0.303908</td>\n",
       "      <td>-0.568885</td>\n",
       "      <td>-0.697704</td>\n",
       "      <td>-0.286742</td>\n",
       "      <td>-0.422352</td>\n",
       "      <td>-0.383432</td>\n",
       "      <td>0.009577</td>\n",
       "      <td>-0.366541</td>\n",
       "      <td>-0.280350</td>\n",
       "      <td>...</td>\n",
       "      <td>1.126205</td>\n",
       "      <td>-0.388845</td>\n",
       "      <td>-0.173188</td>\n",
       "      <td>-0.457686</td>\n",
       "      <td>0.930244</td>\n",
       "      <td>0.102425</td>\n",
       "      <td>-0.274946</td>\n",
       "      <td>0.838894</td>\n",
       "      <td>0.022936</td>\n",
       "      <td>-0.126289</td>\n",
       "    </tr>\n",
       "    <tr>\n",
       "      <th>4748</th>\n",
       "      <td>-0.069655</td>\n",
       "      <td>-0.303908</td>\n",
       "      <td>-0.942069</td>\n",
       "      <td>-0.804525</td>\n",
       "      <td>-0.286742</td>\n",
       "      <td>-0.451807</td>\n",
       "      <td>-0.383432</td>\n",
       "      <td>-0.013269</td>\n",
       "      <td>-0.366541</td>\n",
       "      <td>-0.280350</td>\n",
       "      <td>...</td>\n",
       "      <td>1.191244</td>\n",
       "      <td>-0.388845</td>\n",
       "      <td>-0.154219</td>\n",
       "      <td>-0.457686</td>\n",
       "      <td>0.930244</td>\n",
       "      <td>-0.468972</td>\n",
       "      <td>-0.274946</td>\n",
       "      <td>0.849136</td>\n",
       "      <td>0.050157</td>\n",
       "      <td>-0.126289</td>\n",
       "    </tr>\n",
       "    <tr>\n",
       "      <th>4749</th>\n",
       "      <td>-0.112139</td>\n",
       "      <td>-0.274146</td>\n",
       "      <td>-0.568885</td>\n",
       "      <td>-0.911345</td>\n",
       "      <td>-0.286742</td>\n",
       "      <td>-0.422352</td>\n",
       "      <td>-0.412812</td>\n",
       "      <td>-0.058960</td>\n",
       "      <td>-0.394948</td>\n",
       "      <td>-0.252150</td>\n",
       "      <td>...</td>\n",
       "      <td>1.140142</td>\n",
       "      <td>-0.370730</td>\n",
       "      <td>-0.154219</td>\n",
       "      <td>-0.457686</td>\n",
       "      <td>0.930244</td>\n",
       "      <td>0.459924</td>\n",
       "      <td>-0.274946</td>\n",
       "      <td>0.874742</td>\n",
       "      <td>0.039269</td>\n",
       "      <td>-0.126289</td>\n",
       "    </tr>\n",
       "    <tr>\n",
       "      <th>4750</th>\n",
       "      <td>-0.175867</td>\n",
       "      <td>-0.274146</td>\n",
       "      <td>-0.568885</td>\n",
       "      <td>-0.697704</td>\n",
       "      <td>-0.286742</td>\n",
       "      <td>-0.422352</td>\n",
       "      <td>-0.354052</td>\n",
       "      <td>-0.081806</td>\n",
       "      <td>-0.338135</td>\n",
       "      <td>-0.252150</td>\n",
       "      <td>...</td>\n",
       "      <td>1.135497</td>\n",
       "      <td>-0.388845</td>\n",
       "      <td>-0.135249</td>\n",
       "      <td>-0.428622</td>\n",
       "      <td>0.930244</td>\n",
       "      <td>0.919853</td>\n",
       "      <td>-0.274946</td>\n",
       "      <td>0.884984</td>\n",
       "      <td>0.088266</td>\n",
       "      <td>-0.126289</td>\n",
       "    </tr>\n",
       "    <tr>\n",
       "      <th>4751</th>\n",
       "      <td>-0.239594</td>\n",
       "      <td>-0.303908</td>\n",
       "      <td>-0.475589</td>\n",
       "      <td>-1.231806</td>\n",
       "      <td>-0.286742</td>\n",
       "      <td>-0.451807</td>\n",
       "      <td>-0.354052</td>\n",
       "      <td>-0.104651</td>\n",
       "      <td>-0.366541</td>\n",
       "      <td>-0.280350</td>\n",
       "      <td>...</td>\n",
       "      <td>1.112269</td>\n",
       "      <td>-0.388845</td>\n",
       "      <td>-0.097310</td>\n",
       "      <td>-0.399558</td>\n",
       "      <td>0.930244</td>\n",
       "      <td>-0.511149</td>\n",
       "      <td>-0.274946</td>\n",
       "      <td>0.925952</td>\n",
       "      <td>0.071934</td>\n",
       "      <td>-0.126289</td>\n",
       "    </tr>\n",
       "  </tbody>\n",
       "</table>\n",
       "<p>4752 rows × 40 columns</p>\n",
       "</div>"
      ],
      "text/plain": [
       "           X00       X01       X02       X03       X04       X05       X06  \\\n",
       "id                                                                           \n",
       "0    -2.236377  0.053243 -0.288997 -0.911345 -0.286742  0.284562  0.174782   \n",
       "1    -2.321347  0.083006  0.177482  0.477320 -0.286742  0.284562  0.174782   \n",
       "2    -2.300105  0.112769 -0.382293  0.904602 -0.286742  0.255107  0.204162   \n",
       "3    -2.300105  0.083006 -0.009110 -0.804525 -0.286742  0.255107  0.174782   \n",
       "4    -2.342589  0.083006 -0.662181  0.263679 -0.286742  0.255107  0.204162   \n",
       "...        ...       ...       ...       ...       ...       ...       ...   \n",
       "4747 -0.069655 -0.303908 -0.568885 -0.697704 -0.286742 -0.422352 -0.383432   \n",
       "4748 -0.069655 -0.303908 -0.942069 -0.804525 -0.286742 -0.451807 -0.383432   \n",
       "4749 -0.112139 -0.274146 -0.568885 -0.911345 -0.286742 -0.422352 -0.412812   \n",
       "4750 -0.175867 -0.274146 -0.568885 -0.697704 -0.286742 -0.422352 -0.354052   \n",
       "4751 -0.239594 -0.303908 -0.475589 -1.231806 -0.286742 -0.451807 -0.354052   \n",
       "\n",
       "           X07       X08       X09  ...       X30       X31       X32  \\\n",
       "id                                  ...                                 \n",
       "0    -2.160752  0.315216  0.396435  ...  0.159919 -2.109779 -1.766623   \n",
       "1    -2.183598  0.343622  0.424634  ...  0.215666 -2.091664 -1.842501   \n",
       "2    -2.183598  0.372029  0.481033  ...  0.271413 -2.146009 -1.956318   \n",
       "3    -2.206443  0.343622  0.452834  ...  0.350389 -2.200355 -2.013226   \n",
       "4    -2.206443  0.372029  0.452834  ...  0.401490 -2.254700 -2.013226   \n",
       "...        ...       ...       ...  ...       ...       ...       ...   \n",
       "4747  0.009577 -0.366541 -0.280350  ...  1.126205 -0.388845 -0.173188   \n",
       "4748 -0.013269 -0.366541 -0.280350  ...  1.191244 -0.388845 -0.154219   \n",
       "4749 -0.058960 -0.394948 -0.252150  ...  1.140142 -0.370730 -0.154219   \n",
       "4750 -0.081806 -0.338135 -0.252150  ...  1.135497 -0.388845 -0.135249   \n",
       "4751 -0.104651 -0.366541 -0.280350  ...  1.112269 -0.388845 -0.097310   \n",
       "\n",
       "           X33       X34       X35       X36       X37       X38       X39  \n",
       "id                                                                          \n",
       "0     0.297981 -1.015881  0.482017 -0.274946  0.577720  0.240703 -0.234576  \n",
       "1     0.297981 -1.015881  0.070290 -0.274946  0.582841  0.289700 -0.234576  \n",
       "2     0.268916 -1.015881  0.269124 -0.274946  0.582841  0.311477 -0.234576  \n",
       "3     0.297981 -1.015881  0.056231 -0.274946  0.593083  0.344142 -0.234576  \n",
       "4     0.297981 -1.015881 -0.336416 -0.274946  0.618688  0.371363 -0.234576  \n",
       "...        ...       ...       ...       ...       ...       ...       ...  \n",
       "4747 -0.457686  0.930244  0.102425 -0.274946  0.838894  0.022936 -0.126289  \n",
       "4748 -0.457686  0.930244 -0.468972 -0.274946  0.849136  0.050157 -0.126289  \n",
       "4749 -0.457686  0.930244  0.459924 -0.274946  0.874742  0.039269 -0.126289  \n",
       "4750 -0.428622  0.930244  0.919853 -0.274946  0.884984  0.088266 -0.126289  \n",
       "4751 -0.399558  0.930244 -0.511149 -0.274946  0.925952  0.071934 -0.126289  \n",
       "\n",
       "[4752 rows x 40 columns]"
      ]
     },
     "execution_count": 8,
     "metadata": {},
     "output_type": "execute_result"
    }
   ],
   "source": [
    "X_train"
   ]
  },
  {
   "cell_type": "code",
   "execution_count": 9,
   "metadata": {},
   "outputs": [],
   "source": [
    "# ID로 시간 변수 생성\n",
    "def make_trigonometric_func(df):\n",
    "\n",
    "    minute = pd.Series((df.index%144).astype(int))\n",
    "    hour= pd.Series((df.index%144/6).astype(int))\n",
    "\n",
    "    # 삼각함수를 이용한 시간변수 생성\n",
    "    min_in_day = 24*6\n",
    "    hour_in_day = 24\n",
    "\n",
    "    minute_sin = np.sin(np.pi*minute/min_in_day) \n",
    "    minute_cos = np.cos(np.pi*minute/min_in_day)\n",
    "\n",
    "    hour_sin  = np.sin(np.pi*hour/hour_in_day)\n",
    "    hour_cos  = np.cos(np.pi*hour/hour_in_day)\n",
    "\n",
    "    df['minute_sin'] = minute_sin\n",
    "    df['minute_cos'] = minute_cos\n",
    "\n",
    "    df['hour_sin'] = hour_sin\n",
    "    df['hour_cos'] = hour_cos\n",
    "    return df"
   ]
  },
  {
   "cell_type": "code",
   "execution_count": 10,
   "metadata": {},
   "outputs": [],
   "source": [
    "X_train = make_trigonometric_func(X_train)"
   ]
  },
  {
   "cell_type": "code",
   "execution_count": 11,
   "metadata": {},
   "outputs": [],
   "source": [
    "# RNN 모델에 입력 할 수 있는 시계열 형태로 데이터 변환 \n",
    "def convert_to_timeseries(df, interval):\n",
    "    sequence_list = []\n",
    "    target_list = []\n",
    "    \n",
    "    for i in tqdm(range(df.shape[0] - interval)):\n",
    "        sequence_list.append(np.array(df.iloc[i:i+interval,:-1]))\n",
    "        target_list.append(df.iloc[i+interval,-1])\n",
    "    \n",
    "    sequence = np.array(sequence_list)\n",
    "    target = np.array(target_list)\n",
    "    \n",
    "    return sequence, target"
   ]
  },
  {
   "cell_type": "markdown",
   "metadata": {},
   "source": [
    "[토론 글](https://dacon.io/competitions/official/235584/codeshare/707)에 기반하여, Y15와 Y16 지점의 데이터가 Y18과 상관관계가 높음. 그래서 두 지점의 데이터를 학습하기로 결정"
   ]
  },
  {
   "cell_type": "code",
   "execution_count": 12,
   "metadata": {},
   "outputs": [],
   "source": [
    "y_columns = ['Y15','Y16']"
   ]
  },
  {
   "cell_type": "code",
   "execution_count": 13,
   "metadata": {
    "scrolled": false
   },
   "outputs": [
    {
     "name": "stderr",
     "output_type": "stream",
     "text": [
      "100%|████████████████████████████████████████████████████████████████████████████| 4308/4308 [00:01<00:00, 3048.50it/s]\n",
      "100%|████████████████████████████████████████████████████████████████████████████| 4308/4308 [00:01<00:00, 2579.47it/s]\n"
     ]
    }
   ],
   "source": [
    "# t시점 이전 120분의 데이터로 t시점의 온도를 추정할 수 있는 학습데이터 형성\n",
    "sequence = np.empty((0, 12, 44))\n",
    "target = np.empty((0,))\n",
    "for column in y_columns :\n",
    "    \n",
    "    # concat.shape = (4752, 41)\n",
    "    concat = pd.concat([X_train, train[column]], axis = 1)\n",
    "\n",
    "    _sequence, _target = convert_to_timeseries(concat.head(6*24*30), interval = 12)\n",
    "\n",
    "    sequence = np.vstack((sequence, _sequence))\n",
    "    target = np.hstack((target, _target))"
   ]
  },
  {
   "cell_type": "code",
   "execution_count": 14,
   "metadata": {},
   "outputs": [
    {
     "data": {
      "text/plain": [
       "((8616, 12, 44), (4308, 12, 44), (8616,), (4308,))"
      ]
     },
     "execution_count": 14,
     "metadata": {},
     "output_type": "execute_result"
    }
   ],
   "source": [
    "sequence.shape, _sequence.shape, target.shape, _target.shape"
   ]
  },
  {
   "cell_type": "code",
   "execution_count": 15,
   "metadata": {},
   "outputs": [],
   "source": [
    "# convert_to_timeseries 함수를 쓰기 위한 dummy feature 생성\n",
    "X_train['dummy'] = 0"
   ]
  },
  {
   "cell_type": "code",
   "execution_count": 16,
   "metadata": {},
   "outputs": [],
   "source": [
    "# train set에서 도출된 평균과 표준편차로 standardization 실시 \n",
    "test = (test - MEAN) / (STD + 1e-07)"
   ]
  },
  {
   "cell_type": "code",
   "execution_count": 17,
   "metadata": {},
   "outputs": [],
   "source": [
    "test = make_trigonometric_func(test)"
   ]
  },
  {
   "cell_type": "code",
   "execution_count": 18,
   "metadata": {},
   "outputs": [],
   "source": [
    "# convert_to_timeseries 함수를 쓰기 위한 dummy feature 생성\n",
    "test['dummy'] = 0"
   ]
  },
  {
   "cell_type": "code",
   "execution_count": 19,
   "metadata": {
    "scrolled": true
   },
   "outputs": [
    {
     "name": "stderr",
     "output_type": "stream",
     "text": [
      "100%|██████████████████████████████████████████████████████████████████████████| 16260/16260 [00:06<00:00, 2415.81it/s]\n"
     ]
    }
   ],
   "source": [
    "# train과 test 기간을 합쳐서 120분 간격으로 학습데이터 재구축\n",
    "X_test, _ = convert_to_timeseries(pd.concat([X_train, test], axis = 0), interval=12)"
   ]
  },
  {
   "cell_type": "code",
   "execution_count": 20,
   "metadata": {},
   "outputs": [
    {
     "data": {
      "text/plain": [
       "(16260, 12, 44)"
      ]
     },
     "execution_count": 20,
     "metadata": {},
     "output_type": "execute_result"
    }
   ],
   "source": [
    "X_test.shape"
   ]
  },
  {
   "cell_type": "code",
   "execution_count": 21,
   "metadata": {},
   "outputs": [
    {
     "data": {
      "text/plain": [
       "((11520, 45), (4752, 45), 16260)"
      ]
     },
     "execution_count": 21,
     "metadata": {},
     "output_type": "execute_result"
    }
   ],
   "source": [
    "test.shape, X_train.shape, 11520+4752-12"
   ]
  },
  {
   "cell_type": "code",
   "execution_count": 22,
   "metadata": {},
   "outputs": [
    {
     "data": {
      "text/plain": [
       "80.0"
      ]
     },
     "execution_count": 22,
     "metadata": {},
     "output_type": "execute_result"
    }
   ],
   "source": [
    "11520 / (6*24)"
   ]
  },
  {
   "cell_type": "code",
   "execution_count": 23,
   "metadata": {},
   "outputs": [],
   "source": [
    "# test set 기간인 후반부 80일에 맞게 자르기 \n",
    "X_test = X_test[-11520:, :, :]"
   ]
  },
  {
   "cell_type": "code",
   "execution_count": 24,
   "metadata": {},
   "outputs": [
    {
     "data": {
      "text/plain": [
       "(11520, 12, 44)"
      ]
     },
     "execution_count": 24,
     "metadata": {},
     "output_type": "execute_result"
    }
   ],
   "source": [
    "X_test.shape"
   ]
  },
  {
   "cell_type": "code",
   "execution_count": 25,
   "metadata": {},
   "outputs": [],
   "source": [
    "X_train.drop('dummy', axis = 1, inplace = True)\n",
    "test.drop('dummy', axis = 1, inplace = True)"
   ]
  },
  {
   "cell_type": "markdown",
   "metadata": {},
   "source": [
    "# Feature Engineering & Initial Modeling"
   ]
  },
  {
   "cell_type": "code",
   "execution_count": 26,
   "metadata": {},
   "outputs": [],
   "source": [
    "# 간단한 LSTM 모델 구축하기 \n",
    "simple_lstm_model = tf.keras.models.Sequential([\n",
    "    tf.keras.layers.LSTM(128, input_shape=sequence.shape[-2:]), # 128은 Unit이며, Output Space를 의미\n",
    "    tf.keras.layers.Dense(256, activation='linear'),\n",
    "    tf.keras.layers.Dense(128, activation='linear'),\n",
    "    tf.keras.layers.Dense(1)\n",
    "])\n",
    "\n",
    "simple_lstm_model.compile(optimizer='adam', loss='mse')"
   ]
  },
  {
   "cell_type": "code",
   "execution_count": 27,
   "metadata": {},
   "outputs": [
    {
     "name": "stdout",
     "output_type": "stream",
     "text": [
      "Model: \"sequential\"\n",
      "_________________________________________________________________\n",
      "Layer (type)                 Output Shape              Param #   \n",
      "=================================================================\n",
      "lstm (LSTM)                  (None, 128)               88576     \n",
      "_________________________________________________________________\n",
      "dense (Dense)                (None, 256)               33024     \n",
      "_________________________________________________________________\n",
      "dense_1 (Dense)              (None, 128)               32896     \n",
      "_________________________________________________________________\n",
      "dense_2 (Dense)              (None, 1)                 129       \n",
      "=================================================================\n",
      "Total params: 154,625\n",
      "Trainable params: 154,625\n",
      "Non-trainable params: 0\n",
      "_________________________________________________________________\n"
     ]
    }
   ],
   "source": [
    "simple_lstm_model.summary()"
   ]
  },
  {
   "cell_type": "code",
   "execution_count": 28,
   "metadata": {},
   "outputs": [
    {
     "data": {
      "text/plain": [
       "((8616, 12, 44), (12, 44))"
      ]
     },
     "execution_count": 28,
     "metadata": {},
     "output_type": "execute_result"
    }
   ],
   "source": [
    "sequence.shape, sequence.shape[-2:]"
   ]
  },
  {
   "cell_type": "markdown",
   "metadata": {},
   "source": [
    "# Model Tuning & Evaluation"
   ]
  },
  {
   "cell_type": "code",
   "execution_count": 29,
   "metadata": {},
   "outputs": [],
   "source": [
    "# loss가 4미만으로 떨어지면 학습 종료 시키는 기능\n",
    "class myCallback(tf.keras.callbacks.Callback):\n",
    "    def on_epoch_end(self, epoch, logs = None):\n",
    "        if(logs.get('loss') < 4):\n",
    "            print('\\n Loss is under 4, cancelling training')\n",
    "            self.model.stop_training = True"
   ]
  },
  {
   "cell_type": "code",
   "execution_count": 30,
   "metadata": {},
   "outputs": [],
   "source": [
    "callbacks = myCallback()"
   ]
  },
  {
   "cell_type": "code",
   "execution_count": 31,
   "metadata": {
    "scrolled": true
   },
   "outputs": [
    {
     "name": "stdout",
     "output_type": "stream",
     "text": [
      "Train on 8616 samples\n",
      "Epoch 1/60\n",
      "8616/8616 - 6s - loss: 116.7099\n",
      "Epoch 2/60\n",
      "8616/8616 - 2s - loss: 8.7310\n",
      "Epoch 3/60\n",
      "8616/8616 - 2s - loss: 5.6716\n",
      "Epoch 4/60\n",
      "8616/8616 - 2s - loss: 4.7186\n",
      "Epoch 5/60\n",
      "8616/8616 - 2s - loss: 4.4643\n",
      "Epoch 6/60\n",
      "8616/8616 - 2s - loss: 4.2816\n",
      "Epoch 7/60\n",
      "8616/8616 - 2s - loss: 4.0556\n",
      "Epoch 8/60\n",
      "\n",
      " Loss is under 4, cancelling training\n",
      "8616/8616 - 2s - loss: 3.9073\n"
     ]
    },
    {
     "data": {
      "text/plain": [
       "<tensorflow.python.keras.callbacks.History at 0x1b432c78898>"
      ]
     },
     "execution_count": 31,
     "metadata": {},
     "output_type": "execute_result"
    }
   ],
   "source": [
    "# 모델 학습\n",
    "simple_lstm_model.fit(    \n",
    "    sequence, target,\n",
    "    epochs=60,\n",
    "    batch_size=128,\n",
    "    verbose=2,\n",
    "    shuffle=False,\n",
    "    callbacks = [callbacks]\n",
    ")"
   ]
  },
  {
   "cell_type": "code",
   "execution_count": 32,
   "metadata": {},
   "outputs": [],
   "source": [
    "# LSTM 레이어는 고정\n",
    "simple_lstm_model.layers[0].trainable = False"
   ]
  },
  {
   "cell_type": "code",
   "execution_count": 33,
   "metadata": {},
   "outputs": [
    {
     "data": {
      "text/plain": [
       "<tensorflow.python.keras.engine.sequential.Sequential at 0x1b430ac1e10>"
      ]
     },
     "execution_count": 33,
     "metadata": {},
     "output_type": "execute_result"
    }
   ],
   "source": [
    "simple_lstm_model"
   ]
  },
  {
   "cell_type": "code",
   "execution_count": 34,
   "metadata": {},
   "outputs": [
    {
     "data": {
      "text/plain": [
       "[<tensorflow.python.keras.layers.recurrent_v2.LSTM at 0x1b43025ceb8>,\n",
       " <tensorflow.python.keras.layers.core.Dense at 0x1b430a63668>,\n",
       " <tensorflow.python.keras.layers.core.Dense at 0x1b430a63ac8>,\n",
       " <tensorflow.python.keras.layers.core.Dense at 0x1b430ac1b00>]"
      ]
     },
     "execution_count": 34,
     "metadata": {},
     "output_type": "execute_result"
    }
   ],
   "source": [
    "simple_lstm_model.layers"
   ]
  },
  {
   "cell_type": "code",
   "execution_count": 35,
   "metadata": {},
   "outputs": [
    {
     "data": {
      "text/plain": [
       "<tensorflow.python.keras.layers.recurrent_v2.LSTM at 0x1b43025ceb8>"
      ]
     },
     "execution_count": 35,
     "metadata": {},
     "output_type": "execute_result"
    }
   ],
   "source": [
    "simple_lstm_model.layers[0]"
   ]
  },
  {
   "cell_type": "code",
   "execution_count": 36,
   "metadata": {},
   "outputs": [
    {
     "name": "stderr",
     "output_type": "stream",
     "text": [
      "100%|██████████████████████████████████████████████████████████████████████████████| 420/420 [00:00<00:00, 1474.60it/s]\n"
     ]
    }
   ],
   "source": [
    "# fine tuning 할 때 사용할 학습데이터 생성 (Y18)\n",
    "finetune_X, finetune_y = convert_to_timeseries(pd.concat([X_train.tail(432), train['Y18'].tail(432)], axis = 1), interval=12)"
   ]
  },
  {
   "cell_type": "code",
   "execution_count": 37,
   "metadata": {
    "scrolled": true
   },
   "outputs": [
    {
     "name": "stdout",
     "output_type": "stream",
     "text": [
      "Train on 420 samples\n",
      "Epoch 1/20\n",
      "420/420 - 0s - loss: 5.9472\n",
      "Epoch 2/20\n",
      "420/420 - 0s - loss: 12.0802\n",
      "Epoch 3/20\n",
      "420/420 - 0s - loss: 4.5658\n",
      "Epoch 4/20\n",
      "420/420 - 0s - loss: 3.8677\n",
      "Epoch 5/20\n",
      "420/420 - 0s - loss: 3.5950\n",
      "Epoch 6/20\n",
      "420/420 - 0s - loss: 2.1914\n",
      "Epoch 7/20\n",
      "420/420 - 0s - loss: 1.8924\n",
      "Epoch 8/20\n",
      "420/420 - 0s - loss: 1.5006\n",
      "Epoch 9/20\n",
      "420/420 - 0s - loss: 1.2774\n",
      "Epoch 10/20\n",
      "420/420 - 0s - loss: 1.1665\n",
      "Epoch 11/20\n",
      "420/420 - 0s - loss: 1.0209\n",
      "Epoch 12/20\n",
      "420/420 - 0s - loss: 0.8972\n",
      "Epoch 13/20\n",
      "420/420 - 0s - loss: 0.8562\n",
      "Epoch 14/20\n",
      "420/420 - 0s - loss: 0.7918\n",
      "Epoch 15/20\n",
      "420/420 - 0s - loss: 0.7256\n",
      "Epoch 16/20\n",
      "420/420 - 0s - loss: 0.6898\n",
      "Epoch 17/20\n",
      "420/420 - 0s - loss: 0.6612\n",
      "Epoch 18/20\n",
      "420/420 - 0s - loss: 0.6215\n",
      "Epoch 19/20\n",
      "420/420 - 0s - loss: 0.5924\n",
      "Epoch 20/20\n",
      "420/420 - 0s - loss: 0.5773\n"
     ]
    }
   ],
   "source": [
    "# LSTM 레이어는 고정 시켜두고, DNN 레이어에 대해서 fine tuning 진행 (Transfer Learning)\n",
    "finetune_history = simple_lstm_model.fit(\n",
    "            finetune_X, finetune_y,\n",
    "            epochs=20,\n",
    "            batch_size=64,\n",
    "            shuffle=False,\n",
    "            verbose = 2)"
   ]
  },
  {
   "cell_type": "code",
   "execution_count": 38,
   "metadata": {},
   "outputs": [],
   "source": [
    "# 예측하기 \n",
    "finetune_pred = simple_lstm_model.predict(X_test)"
   ]
  },
  {
   "cell_type": "code",
   "execution_count": 39,
   "metadata": {},
   "outputs": [],
   "source": [
    "# 제출 파일 만들기\n",
    "submit = pd.DataFrame({'id':range(144*33, 144*113),\n",
    "              'Y18':finetune_pred.reshape(1,-1)[0]})"
   ]
  },
  {
   "cell_type": "code",
   "execution_count": 40,
   "metadata": {},
   "outputs": [],
   "source": [
    "submit.to_csv('LSTM_Transfer_Learning.csv', index = False)"
   ]
  }
 ],
 "metadata": {
  "kernelspec": {
   "display_name": "Python 3",
   "language": "python",
   "name": "python3"
  },
  "language_info": {
   "codemirror_mode": {
    "name": "ipython",
    "version": 3
   },
   "file_extension": ".py",
   "mimetype": "text/x-python",
   "name": "python",
   "nbconvert_exporter": "python",
   "pygments_lexer": "ipython3",
   "version": "3.7.3"
  }
 },
 "nbformat": 4,
 "nbformat_minor": 4
}
